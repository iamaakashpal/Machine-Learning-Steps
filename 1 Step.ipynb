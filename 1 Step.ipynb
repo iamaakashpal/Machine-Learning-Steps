{
 "cells": [
  {
   "cell_type": "markdown",
   "metadata": {},
   "source": [
    "# MACHINE LEARNING STEPS "
   ]
  },
  {
   "cell_type": "markdown",
   "metadata": {},
   "source": [
    "### 1. Exploratory Data Analysis\n",
    "\n",
    "https://www.youtube.com/playlist?list=PLZoTAELRMXVPQyArDHyQVjQxjj_YmEuO9\n",
    "\n",
    "STEP 1 : EDA { Exploratory Data Analysis }\n",
    "\n",
    "    i. Check Numerical Features.\n",
    "    ii. Check Categorial Feature.\n",
    "    iii. Check Missing Values.\n",
    "    iv. Check Outliers.\n",
    "    v. Data Cleaning."
   ]
  },
  {
   "cell_type": "markdown",
   "metadata": {},
   "source": [
    "### 2. Feature Engineering\n",
    "\n",
    "https://www.youtube.com/playlist?list=PLZoTAELRMXVPwYGE2PXD3x0bfKnR0cJjN\n",
    "\n",
    "STEP 1 : Handling the Missing Values\n",
    "\n",
    "    i. Mean\n",
    "    ii. Median\n",
    "    iii. Mode\n",
    "\n",
    "STEP 2 : Handling Imbalanced Dataset\n",
    "\n",
    "STEP 3 : Treating the Outliers\n",
    "\n",
    "STEP 4 : Scaling down the Data.{Standardization and Normalization}\n",
    "\n",
    "STEP 5 : Converting the Categorical Features into Numerical Features."
   ]
  },
  {
   "cell_type": "markdown",
   "metadata": {},
   "source": [
    "### 3. Feature Selection\n",
    "\n",
    "    i. Correlation\n",
    "    ii. K Neighbour\n",
    "    iii. Chi-Square\n",
    "    iv. Genetic Algorithm\n",
    "    v. Feature Importance {Extra Tree Classifier}"
   ]
  }
 ],
 "metadata": {
  "kernelspec": {
   "display_name": "Python 3.10.5 64-bit",
   "language": "python",
   "name": "python3"
  },
  "language_info": {
   "name": "python",
   "version": "3.10.5"
  },
  "orig_nbformat": 4,
  "vscode": {
   "interpreter": {
    "hash": "3196968d684371006099b3d55edeef8ed90365227a30deaef86e5d4aa8519be0"
   }
  }
 },
 "nbformat": 4,
 "nbformat_minor": 2
}
